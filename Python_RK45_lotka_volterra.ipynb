{
 "cells": [
  {
   "cell_type": "code",
   "execution_count": 1,
   "id": "fc30902b-e740-4151-8dc4-fba6c90ecb9f",
   "metadata": {},
   "outputs": [],
   "source": [
    "from scipy import integrate\n",
    "import matplotlib.pyplot as plt\n",
    "import numpy as np\n",
    "from math import pi,sin,cos"
   ]
  },
  {
   "cell_type": "code",
   "execution_count": 2,
   "id": "7565a853-93d8-44a6-be56-d5d8930e9d57",
   "metadata": {},
   "outputs": [
    {
     "name": "stdout",
     "output_type": "stream",
     "text": [
      "1.2246467991473532e-16\n"
     ]
    }
   ],
   "source": [
    "print(sin(pi))\n",
    "#the problem is, pi in math is a float that's 3.14....sth, and it won't return exactly 0 but something very close to 0 at this point,\n",
    "#however, considering that since my time values will basically be impossible equals exactly pi,it should be fine and accurate enough."
   ]
  },
  {
   "cell_type": "code",
   "execution_count": 3,
   "id": "f87662ea-44d9-48b6-8955-2e84b391fbd7",
   "metadata": {},
   "outputs": [],
   "source": [
    "def rk45_lotka_volterra(func,tspan,y0,params):\n",
    "    #func      the function used to describe the lotka volterra system\n",
    "    #tspan     the interval of time\n",
    "    #y0        initial conditions, should be an 1-d array of size (n,)\n",
    "    #params      an array that should contain 4 parameters a,b,c,d\n",
    "    #a           birth rate of rabbits\n",
    "    #b           death rate of rabbits\n",
    "    #c           bith rate of foxes\n",
    "    #d           death rate of foxes\n",
    "    sol=integrate.solve_ivp(func,tspan,y0,max_step=0.33,args=(params,))#I really don't understand this args=(params,)syntax, \n",
    "    #but it should be able to pass on the parameters, I don't understand why is it written in this way though, \n",
    "    #and why wouldn't it return some form of tuple.\n",
    "    T=sol.t\n",
    "    sol=sol.y #the values array for the species\n",
    "    rabbit=sol[0]\n",
    "    fox=sol[1]\n",
    "    eagle=sol[2]\n",
    "    time=T[-1]\n",
    "    num_rabbit=rabbit[-1]\n",
    "    num_fox=fox[-1]\n",
    "    num_eagle=eagle[-1]\n",
    "    print('at t=',time,', the number of the rabbits are',num_rabbit,', the number of the foxes are',num_fox,'the number of the eagles are',num_eagle)\n",
    "    plt.plot(T,rabbit,'r')\n",
    "    plt.plot(T,fox,'b')\n",
    "    plt.plot(T,eagle,'g')\n",
    "    plt.xlabel('time')\n",
    "    plt.title('runge kutta method')\n",
    "    plt.show"
   ]
  },
  {
   "cell_type": "code",
   "execution_count": 4,
   "id": "b3413191-4dc7-46b3-b3fc-76df5660106a",
   "metadata": {},
   "outputs": [],
   "source": [
    "def func(t,y,params):#the function to describe the drabbits and dfoxes and deagles.\n",
    "    #y           an array containing the 1) the number of rabbits 2) the number of foxes. 3) the number of eagles\n",
    "    #params      an array that should contain 6 parameters a,b,c,d,e,f\n",
    "    #a           initial birth rate of rabbits\n",
    "    #b           initial death rate of rabbits eaten by foxes\n",
    "    #c           initial bith rate of foxes\n",
    "    #d           initial death rate of foxes eaten by eagles\n",
    "    #e           initial birth rate of eagles\n",
    "    #f           initial death rate of eagles\n",
    "    #to involve a time factor, I am using sinusoidal functions, so the value of the constant will be oscillating in a range, I don't know how to scientifically explain\n",
    "    #it though, I will make the period of the sinusoidal function 360 years, so that maybe for some constant, the first half of the year will increase and vice versa\n",
    "    #for the second half of the year, like birthrate is high in the summer and low in the winter.\n",
    "    a=params[0]\n",
    "    da=0.2*sin((pi/180)*t) #doing so will make this constant's difference with it's initial value oscillating around [-2,2], and the period will be 360 days which is\n",
    "    #roughly a year\n",
    "    a=a+da\n",
    "    b=params[1]\n",
    "    db=-0.1*sin((pi/180)*t)\n",
    "    b=b+db\n",
    "    c=params[2]\n",
    "    dc=0.15*sin((pi/180)*t)\n",
    "    c=c+dc\n",
    "    d=params[3]\n",
    "    dd=0.1*sin((pi/180)*t)+0.1\n",
    "    d=d+dd\n",
    "    e=params[4]\n",
    "    de=0.1*sin((pi/180)*t)\n",
    "    e=e+de\n",
    "    f=params[5]\n",
    "    df=0.2*sin((pi/180)*t)\n",
    "    f=f+df\n",
    "    \n",
    "    X=y[0]\n",
    "    Y=y[1]\n",
    "    Z=y[2]\n",
    "    dx=(a*X)-(b*X*Y)\n",
    "    dy=(c*X*Y)-(d*Y*Z)\n",
    "    dz=(e*Y*Z)-(f*Z)\n",
    "    return([dx,dy,dz])"
   ]
  },
  {
   "cell_type": "code",
   "execution_count": 5,
   "id": "fc81abda-9cd2-4a49-89d2-16825203d56c",
   "metadata": {},
   "outputs": [
    {
     "name": "stdout",
     "output_type": "stream",
     "text": [
      "at t= 26.0 , the number of the rabbits are 156.36277289907716 , the number of the foxes are 1.4225317017024177e-05 the number of the eagles are 451.71150138616184\n"
     ]
    },
    {
     "data": {
      "image/png": "[encoded data removed]",
      "text/plain": [
       "<Figure size 432x288 with 1 Axes>"
      ]
     },
     "metadata": {
      "needs_background": "light"
     },
     "output_type": "display_data"
    }
   ],
   "source": [
    "tspan=[0,26]\n",
    "y0=[200,10,1]\n",
    "params=[0.7,0.3,0.6,0.2,0.2,0.3]#I always think there is something about the equation, so C(the eating rate of foxes) should be proportional to rabbit/foxes,\n",
    "#such that if there is more rabbit than foxes, eating rate will be higher, and if there is less rabbits than foxes, eating rate will be lower, instead of \n",
    "#proportional directly to XY, same for the eating rate of eagles. I think that would make the model a lot better and more accurate, my idea is something like\n",
    "#eating rate = (c*y^2)/x\n",
    "rk45_lotka_volterra(func,tspan,y0,params)"
   ]
  },
  {
   "cell_type": "code",
   "execution_count": 6,
   "id": "dd1380da-66ae-48b6-891f-66f8fa4d0ce2",
   "metadata": {},
   "outputs": [],
   "source": [
    "tspan=[0,100]\n",
    "y0=[200,10,1]\n",
    "params=[0.7,0.3,0.6,0.2,0.2,0.3]\n",
    "sol=integrate.solve_ivp(func,tspan,y0,max_step=0.33,args=(params,))"
   ]
  },
  {
   "cell_type": "code",
   "execution_count": 7,
   "id": "89f66fd1-8454-46de-a853-ab2c320cba71",
   "metadata": {},
   "outputs": [
    {
     "data": {
      "text/plain": [
       "  message: 'Required step size is less than spacing between numbers.'\n",
       "     nfev: 3044\n",
       "     njev: 0\n",
       "      nlu: 0\n",
       "      sol: None\n",
       "   status: -1\n",
       "  success: False\n",
       "        t: array([0.00000000e+00, 1.44619291e-02, 2.97750274e-02, 4.45989694e-02,\n",
       "       5.29444371e-02, 6.12899048e-02, 6.99326254e-02, 7.85191276e-02,\n",
       "       8.76772002e-02, 9.83135695e-02, 1.13612422e-01, 1.27952818e-01,\n",
       "       1.40485735e-01, 1.53018652e-01, 1.65094863e-01, 1.77006170e-01,\n",
       "       1.88888566e-01, 2.00788102e-01, 2.12725846e-01, 2.24719276e-01,\n",
       "       2.36799584e-01, 2.49040832e-01, 2.61620427e-01, 2.74922472e-01,\n",
       "       2.89637322e-01, 3.06777229e-01, 3.27721258e-01, 3.54526917e-01,\n",
       "       3.90562098e-01, 4.40120805e-01, 4.88325084e-01, 5.36529363e-01,\n",
       "       5.81549824e-01, 6.23483626e-01, 6.66654548e-01, 7.14900538e-01,\n",
       "       7.67150535e-01, 8.17823769e-01, 8.64070124e-01, 9.09160273e-01,\n",
       "       9.58499416e-01, 1.01393007e+00, 1.07075502e+00, 1.12311349e+00,\n",
       "       1.17172992e+00, 1.22249820e+00, 1.28019703e+00, 1.34289449e+00,\n",
       "       1.40302682e+00, 1.45741037e+00, 1.51084853e+00, 1.57040475e+00,\n",
       "       1.63803157e+00, 1.70699737e+00, 1.76983135e+00, 1.82821750e+00,\n",
       "       1.89018243e+00, 1.96172285e+00, 2.03963344e+00, 2.11366731e+00,\n",
       "       2.18033094e+00, 2.24658821e+00, 2.32177825e+00, 2.40792926e+00,\n",
       "       2.49541766e+00, 2.57465293e+00, 2.64876696e+00, 2.72884092e+00,\n",
       "       2.82258769e+00, 2.92489849e+00, 3.02173800e+00, 3.10929625e+00,\n",
       "       3.19777230e+00, 3.29994203e+00, 3.41794682e+00, 3.53785443e+00,\n",
       "       3.64702657e+00, 3.75090496e+00, 3.86551989e+00, 4.00150994e+00,\n",
       "       4.15087748e+00, 4.29376014e+00, 4.42597587e+00, 4.56349955e+00,\n",
       "       4.72574576e+00, 4.91591358e+00, 5.11342971e+00, 5.30091197e+00,\n",
       "       5.48919515e+00, 5.70694546e+00, 5.97602834e+00, 6.29066239e+00,\n",
       "       6.62066239e+00, 6.95066239e+00, 7.28066239e+00, 7.61066239e+00,\n",
       "       7.94066239e+00, 8.27066239e+00, 8.60066239e+00, 8.93066239e+00,\n",
       "       9.26066239e+00, 9.45821296e+00, 9.58242324e+00, 9.68119044e+00,\n",
       "       9.77183669e+00, 9.85459740e+00, 9.93140594e+00, 1.00083086e+01,\n",
       "       1.00686927e+01, 1.01290768e+01, 1.01902672e+01, 1.02278137e+01,\n",
       "       1.02653602e+01, 1.03093369e+01, 1.03524289e+01, 1.03960238e+01,\n",
       "       1.04403906e+01, 1.04857289e+01, 1.05322579e+01, 1.05803709e+01,\n",
       "       1.06309031e+01, 1.06855879e+01, 1.07475525e+01, 1.08216073e+01,\n",
       "       1.09148547e+01, 1.10388802e+01, 1.12151734e+01, 1.14861942e+01,\n",
       "       1.18161942e+01, 1.21461942e+01, 1.24761942e+01, 1.28061942e+01,\n",
       "       1.31361942e+01, 1.33545002e+01, 1.34794634e+01, 1.35651893e+01,\n",
       "       1.36448138e+01, 1.37167321e+01, 1.37823449e+01, 1.38442807e+01,\n",
       "       1.39134979e+01, 1.39646817e+01, 1.40158655e+01, 1.40474199e+01,\n",
       "       1.40789743e+01, 1.41129717e+01, 1.41465737e+01, 1.41805994e+01,\n",
       "       1.42152515e+01, 1.42506819e+01, 1.42870697e+01, 1.43247426e+01,\n",
       "       1.43643962e+01, 1.44074604e+01, 1.44564838e+01, 1.45153652e+01,\n",
       "       1.45899111e+01, 1.46897539e+01, 1.48331320e+01, 1.50573151e+01,\n",
       "       1.53873151e+01, 1.57173151e+01, 1.60473151e+01, 1.63773151e+01,\n",
       "       1.65412651e+01, 1.66499254e+01, 1.67187021e+01, 1.67734538e+01,\n",
       "       1.68241763e+01, 1.68713307e+01, 1.69159262e+01, 1.69610870e+01,\n",
       "       1.69863517e+01, 1.70116164e+01, 1.70439925e+01, 1.70716422e+01,\n",
       "       1.70961041e+01, 1.71205661e+01, 1.71447023e+01, 1.71689172e+01,\n",
       "       1.71934367e+01, 1.72183661e+01, 1.72437958e+01, 1.72698648e+01,\n",
       "       1.72968623e+01, 1.73254183e+01, 1.73567767e+01, 1.73929989e+01,\n",
       "       1.74370872e+01, 1.74935432e+01, 1.75699940e+01, 1.76805663e+01,\n",
       "       1.78472043e+01, 1.80755522e+01, 1.83824211e+01, 1.87124211e+01,\n",
       "       1.89804104e+01, 1.90981566e+01, 1.91691783e+01, 1.92256435e+01,\n",
       "       1.92778584e+01, 1.93260017e+01, 1.93712029e+01, 1.94182134e+01,\n",
       "       1.94474474e+01, 1.94766814e+01, 1.95072827e+01, 1.95304524e+01,\n",
       "       1.95536222e+01, 1.95769045e+01, 1.96003360e+01, 1.96242031e+01,\n",
       "       1.96486351e+01, 1.96737523e+01, 1.96997323e+01, 1.97269212e+01,\n",
       "       1.97560407e+01, 1.97884872e+01, 1.98265864e+01, 1.98738585e+01,\n",
       "       1.99359328e+01, 2.00232127e+01, 2.01584298e+01, 2.04056051e+01,\n",
       "       2.07356051e+01, 2.10656051e+01, 2.11498546e+01, 2.12025149e+01,\n",
       "       2.12442388e+01, 2.12827962e+01, 2.13185649e+01, 2.13523364e+01,\n",
       "       2.13865486e+01, 2.14053283e+01, 2.14241079e+01, 2.14478907e+01,\n",
       "       2.14669378e+01, 2.14859848e+01, 2.15037880e+01, 2.15213853e+01,\n",
       "       2.15391318e+01, 2.15571573e+01, 2.15755376e+01, 2.15943486e+01,\n",
       "       2.16137170e+01, 2.16339084e+01, 2.16554883e+01, 2.16795308e+01,\n",
       "       2.17077564e+01, 2.17426827e+01, 2.17882451e+01, 2.18514491e+01,\n",
       "       2.19459493e+01, 2.20949777e+01, 2.23322229e+01, 2.26622229e+01,\n",
       "       2.27787355e+01, 2.28625141e+01, 2.29144875e+01, 2.29556180e+01,\n",
       "       2.29934346e+01, 2.30282029e+01, 2.30607292e+01, 2.30935426e+01,\n",
       "       2.31116622e+01, 2.31297818e+01, 2.31555723e+01, 2.31720741e+01,\n",
       "       2.31885758e+01, 2.32051605e+01, 2.32216895e+01, 2.32384673e+01,\n",
       "       2.32555999e+01, 2.32731672e+01, 2.32912662e+01, 2.33100701e+01,\n",
       "       2.33299386e+01, 2.33516048e+01, 2.33763803e+01, 2.34063010e+01,\n",
       "       2.34444660e+01, 2.34961619e+01, 2.35718847e+01, 2.36961557e+01,\n",
       "       2.39536910e+01, 2.41837501e+01, 2.42718343e+01, 2.43261489e+01,\n",
       "       2.43644025e+01, 2.44003003e+01, 2.44332050e+01, 2.44636133e+01,\n",
       "       2.44926487e+01, 2.45235417e+01, 2.45416266e+01, 2.45597116e+01,\n",
       "       2.45747267e+01, 2.45897418e+01, 2.46047692e+01, 2.46196598e+01,\n",
       "       2.46347650e+01, 2.46501974e+01, 2.46660359e+01, 2.46823670e+01,\n",
       "       2.46993343e+01, 2.47172278e+01, 2.47366427e+01, 2.47586785e+01,\n",
       "       2.47850925e+01, 2.48185707e+01, 2.48636461e+01, 2.49293006e+01,\n",
       "       2.50373108e+01, 2.52773224e+01, 2.54333432e+01, 2.55196889e+01,\n",
       "       2.55786509e+01, 2.56155688e+01, 2.56458166e+01, 2.56742178e+01,\n",
       "       2.57008242e+01, 2.57262098e+01, 2.57503441e+01, 2.57664204e+01,\n",
       "       2.57824967e+01, 2.57997886e+01, 2.58128018e+01, 2.58258150e+01,\n",
       "       2.58389414e+01, 2.58521489e+01, 2.58656075e+01, 2.58793910e+01,\n",
       "       2.58935667e+01, 2.59082313e+01, 2.59235689e+01, 2.59399626e+01,\n",
       "       2.59581625e+01, 2.59794397e+01, 2.60057318e+01, 2.60401180e+01,\n",
       "       2.60882349e+01, 2.61623233e+01, 2.62967875e+01, 2.66267875e+01,\n",
       "       2.67179319e+01, 2.67692310e+01, 2.68017586e+01, 2.68274483e+01,\n",
       "       2.68508158e+01, 2.68721899e+01, 2.68919393e+01, 2.69056222e+01,\n",
       "       2.69127726e+01, 2.69170732e+01, 2.69193125e+01, 2.69207505e+01,\n",
       "       2.69214290e+01, 2.69219310e+01, 2.69221253e+01, 2.69223195e+01,\n",
       "       2.69223637e+01, 2.69224079e+01, 2.69224386e+01, 2.69224618e+01,\n",
       "       2.69224707e+01, 2.69224796e+01, 2.69224817e+01, 2.69224838e+01,\n",
       "       2.69224852e+01, 2.69224863e+01, 2.69224867e+01, 2.69224871e+01,\n",
       "       2.69224872e+01, 2.69224873e+01, 2.69224874e+01, 2.69224874e+01,\n",
       "       2.69224875e+01, 2.69224875e+01, 2.69224875e+01, 2.69224875e+01,\n",
       "       2.69224875e+01, 2.69224875e+01, 2.69224875e+01, 2.69224875e+01,\n",
       "       2.69224875e+01, 2.69224875e+01, 2.69224875e+01, 2.69224875e+01,\n",
       "       2.69224875e+01, 2.69224875e+01, 2.69224875e+01, 2.69224875e+01,\n",
       "       2.69224875e+01, 2.69224875e+01, 2.69224875e+01, 2.69224875e+01,\n",
       "       2.69224875e+01, 2.69224875e+01, 2.69224875e+01, 2.69224875e+01,\n",
       "       2.69224875e+01, 2.69224875e+01])\n",
       " t_events: None\n",
       "        y: array([[ 2.00000000e+02,  1.80354878e+02,  1.04964795e+02, ...,\n",
       "         6.48803763e+12,  9.58782081e+12,  1.83610814e+13],\n",
       "       [ 1.00000000e+01,  5.30823938e+01,  2.06361075e+02, ...,\n",
       "        -1.70125987e+13, -2.51406908e+13, -4.81454835e+13],\n",
       "       [ 1.00000000e+00,  1.07387683e+00,  1.54041366e+00, ...,\n",
       "         3.81485621e-08,  2.61908499e-08,  1.40115113e-08]])\n",
       " y_events: None"
      ]
     },
     "execution_count": 7,
     "metadata": {},
     "output_type": "execute_result"
    }
   ],
   "source": [
    "sol"
   ]
  },
  {
   "cell_type": "code",
   "execution_count": 8,
   "id": "b27070a6-307d-4547-a506-23eebf2d4ee6",
   "metadata": {},
   "outputs": [],
   "source": [
    "#set t for 100 or larger number would report such error, I searched for why this issue might happen, they say sth like the scales of my varaibles are too high(I am not sure whether I understand it correctly)\n",
    "#and that solve_ivp would just crush.'You have set C so high that the system explodes with respect to the numerical accuracy achievable with double precision.'"
   ]
  }
 ],
 "metadata": {
  "kernelspec": {
   "display_name": "Python 3 (ipykernel)",
   "language": "python",
   "name": "python3"
  },
  "language_info": {
   "codemirror_mode": {
    "name": "ipython",
    "version": 3
   },
   "file_extension": ".py",
   "mimetype": "text/x-python",
   "name": "python",
   "nbconvert_exporter": "python",
   "pygments_lexer": "ipython3",
   "version": "3.9.7"
  }
 },
 "nbformat": 4,
 "nbformat_minor": 5
}
