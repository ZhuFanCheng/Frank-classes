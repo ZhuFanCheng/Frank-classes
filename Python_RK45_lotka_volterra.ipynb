{
 "cells": [
  {
   "cell_type": "code",
   "execution_count": 1,
   "id": "fc30902b-e740-4151-8dc4-fba6c90ecb9f",
   "metadata": {},
   "outputs": [],
   "source": [
    "from scipy import integrate\n",
    "import matplotlib.pyplot as plt\n",
    "import numpy as np\n",
    "from math import pi,sin,cos"
   ]
  },
  {
   "cell_type": "code",
   "execution_count": 2,
   "id": "7565a853-93d8-44a6-be56-d5d8930e9d57",
   "metadata": {},
   "outputs": [
    {
     "name": "stdout",
     "output_type": "stream",
     "text": [
      "1.2246467991473532e-16\n"
     ]
    }
   ],
   "source": [
    "print(sin(pi))\n",
    "#the problem is, pi in math is a float that's 3.14....sth, and it won't return exactly 0 but something very close to 0 at this point,\n",
    "#however, considering that since my time values will basically be impossible equals exactly pi,it should be fine and accurate enough."
   ]
  },
  {
   "cell_type": "code",
   "execution_count": 3,
   "id": "f87662ea-44d9-48b6-8955-2e84b391fbd7",
   "metadata": {},
   "outputs": [],
   "source": [
    "def rk45_lotka_volterra(func,tspan,y0,params):\n",
    "    #func      the function used to describe the lotka volterra system\n",
    "    #tspan     the interval of time\n",
    "    #y0        initial conditions, should be an 1-d array of size (n,)\n",
    "    #params      an array that should contain 4 parameters a,b,c,d\n",
    "    #a           birth rate of rabbits\n",
    "    #b           death rate of rabbits\n",
    "    #c           bith rate of foxes\n",
    "    #d           death rate of foxes\n",
    "    sol=integrate.solve_ivp(func,tspan,y0,max_step=0.33,args=(params,))#I really don't understand this args=(params,)syntax, \n",
    "    #but it should be able to pass on the parameters, I don't understand why is it written in this way though, \n",
    "    #and why wouldn't it return some form of tuple.\n",
    "    T=sol.t\n",
    "    sol=sol.y #the values array for the species\n",
    "    rabbit=sol[0]\n",
    "    fox=sol[1]\n",
    "    eagle=sol[2]\n",
    "    time=T[-1]\n",
    "    num_rabbit=rabbit[-1]\n",
    "    num_fox=fox[-1]\n",
    "    num_eagle=eagle[-1]\n",
    "    print('at t=',time,', the number of the rabbits are',num_rabbit,', the number of the foxes are',num_fox,'the number of the eagles are',num_eagle)\n",
    "    plt.plot(T,rabbit,'r')\n",
    "    plt.plot(T,fox,'b')\n",
    "    plt.plot(T,eagle,'g')\n",
    "    plt.xlabel('time')\n",
    "    plt.title('runge kutta method')\n",
    "    plt.show"
   ]
  },
  {
   "cell_type": "code",
   "execution_count": 4,
   "id": "b3413191-4dc7-46b3-b3fc-76df5660106a",
   "metadata": {},
   "outputs": [],
   "source": [
    "def lotka_volterra(t,y,params):#the function to describe the drabbits and dfoxes and deagles.\n",
    "    #y           an array containing the 1) the number of rabbits 2) the number of foxes. 3) the number of eagles\n",
    "    #params      an array that should contain 6 parameters a,b,c,d,e,f\n",
    "    #a           initial birth rate of rabbits\n",
    "    #b           initial death rate of rabbits eaten by foxes\n",
    "    #c           initial bith rate of foxes\n",
    "    #d           initial death rate of foxes eaten by eagles\n",
    "    #e           initial birth rate of eagles\n",
    "    #f           initial death rate of eagles\n",
    "    #to involve a time factor, I am using sinusoidal functions, so the value of the constant will be oscillating in a range, I don't know how to scientifically explain\n",
    "    #it though, I will make the period of the sinusoidal function 360 years, so that maybe for some constant, the first half of the year will increase and vice versa\n",
    "    #for the second half of the year, like birthrate is high in the summer and low in the winter.\n",
    "    a=params[0]\n",
    "    da=0.2*sin((pi/180)*t) #doing so will make this constant's difference with it's initial value oscillating around [-2,2], and the period will be 360 days which is\n",
    "    #roughly a year\n",
    "    a=a+da\n",
    "    b=params[1]\n",
    "    db=-0.02*sin((pi/180)*t)\n",
    "    b=b+db\n",
    "    c=params[2]\n",
    "    dc=0.15*sin((pi/180)*t)\n",
    "    c=c+dc\n",
    "    d=params[3]\n",
    "    dd=0.005*sin((pi/180)*t)+0.005\n",
    "    d=d+dd\n",
    "    e=params[4]\n",
    "    de=0.1*sin((pi/180)*t)\n",
    "    e=e+de\n",
    "    f=params[5]\n",
    "    df=0.2*sin((pi/180)*t)\n",
    "    f=f+df\n",
    "    \n",
    "    X=y[0]\n",
    "    Y=y[1]\n",
    "    Z=y[2]\n",
    "    dx=(a*X)-(b*X*Y)\n",
    "    dy=(c*X*Y)-(d*Y*Z)\n",
    "    dz=(e*Y*Z)-(f*Z)\n",
    "    return([dx,dy,dz])"
   ]
  },
  {
   "cell_type": "code",
   "execution_count": 5,
   "id": "fc81abda-9cd2-4a49-89d2-16825203d56c",
   "metadata": {},
   "outputs": [
    {
     "name": "stdout",
     "output_type": "stream",
     "text": [
      "at t= 6.940155507084114 , the number of the rabbits are 112668700327375.94 , the number of the foxes are -1030480573584191.8 the number of the eagles are 3.733731516259531e-29\n"
     ]
    },
    {
     "data": {
      "image/png": "[encoded data removed]",
      "text/plain": [
       "<Figure size 432x288 with 1 Axes>"
      ]
     },
     "metadata": {
      "needs_background": "light"
     },
     "output_type": "display_data"
    }
   ],
   "source": [
    "tspan=[0,1000]\n",
    "y0=[200,10,1]\n",
    "params=[0.7,0.07,0.6,0.03,0.2,0.3]#I always think there is something about the equation, so C(the eating rate of foxes) should be proportional to rabbit/foxes,\n",
    "#such that if there is more rabbit than foxes, eating rate will be higher, and if there is less rabbits than foxes, eating rate will be lower, instead of \n",
    "#proportional directly to XY, same for the eating rate of eagles. I think that would make the model a lot better and more accurate.\n",
    "rk45_lotka_volterra(lotka_volterra,tspan,y0,params)\n",
    "#I have no clue with what the graph is going on right now, is it because the problem of my plot or is it because of the parameters? I think it's because the numbers are too big."
   ]
  }
 ],
 "metadata": {
  "kernelspec": {
   "display_name": "Python 3 (ipykernel)",
   "language": "python",
   "name": "python3"
  },
  "language_info": {
   "codemirror_mode": {
    "name": "ipython",
    "version": 3
   },
   "file_extension": ".py",
   "mimetype": "text/x-python",
   "name": "python",
   "nbconvert_exporter": "python",
   "pygments_lexer": "ipython3",
   "version": "3.9.7"
  }
 },
 "nbformat": 4,
 "nbformat_minor": 5
}
