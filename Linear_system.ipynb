{
 "cells": [
  {
   "cell_type": "code",
   "execution_count": 1,
   "id": "bd45df23-8ccd-4601-b19a-9a75f327bf24",
   "metadata": {},
   "outputs": [],
   "source": [
    "import numpy as np\n",
    "from math import e\n",
    "from scipy import linalg as LA\n",
    "from scipy import integrate\n",
    "from sklearn.metrics import mean_squared_error"
   ]
  },
  {
   "cell_type": "code",
   "execution_count": 2,
   "id": "f776fb8c-751b-4807-8e7e-ae44b308a4fb",
   "metadata": {},
   "outputs": [],
   "source": [
    "def linear_system(t,Y,params):\n",
    "    #param    the array containing all the entries of a matrix\n",
    "    #this is a function that describes a linear system dX=AX, where A is n by n, X is n by 1\n",
    "    c11=params[0]\n",
    "    c12=params[1]\n",
    "    c13=params[2]\n",
    "    c21=params[3]\n",
    "    c22=params[4]\n",
    "    c23=params[5]\n",
    "    c31=params[6]\n",
    "    c32=params[7]\n",
    "    c33=params[8]\n",
    "    x=Y[0]\n",
    "    y=Y[1]\n",
    "    z=Y[2]\n",
    "    dx=c11*x+c12*y+c13*z\n",
    "    dy=c21*x+c22*y+c23*z\n",
    "    dz=c31*x+c32*y+c33*z\n",
    "    return([dx,dy,dz])"
   ]
  },
  {
   "cell_type": "code",
   "execution_count": 3,
   "id": "f7143c68-f4a8-4004-9a7d-4192fc06343d",
   "metadata": {},
   "outputs": [],
   "source": [
    "def num_solve(func,tspan,y0,params):\n",
    "    sol=integrate.solve_ivp(func,tspan,y0,args=(params,))\n",
    "    sol=sol.y\n",
    "    Y=[]\n",
    "    x=sol[0]\n",
    "    x=x[-1]\n",
    "    y=sol[1]\n",
    "    y=y[-1]\n",
    "    z=sol[2]\n",
    "    z=z[-1]\n",
    "    Y.append(x)\n",
    "    Y.append(y)\n",
    "    Y.append(z)\n",
    "    return Y"
   ]
  },
  {
   "cell_type": "code",
   "execution_count": 4,
   "id": "8ad508c5-b92d-491e-a19b-fde0e6bff8b4",
   "metadata": {},
   "outputs": [
    {
     "name": "stdout",
     "output_type": "stream",
     "text": [
      "[9.054661286697442e+25, 0.0, -1.8109322573394884e+26]\n"
     ]
    }
   ],
   "source": [
    "tspan=[0,10]\n",
    "y0=[2,0,-1]\n",
    "params=(2,0,-2,0,4,0,-2,0,5)\n",
    "numerical_solution=num_solve(linear_system,tspan,y0,params)#the numerical solution using RK45\n",
    "print(numerical_solution)"
   ]
  },
  {
   "cell_type": "code",
   "execution_count": 5,
   "id": "1937dfe0-f917-4b04-970c-27de602d7b45",
   "metadata": {},
   "outputs": [],
   "source": [
    "def matrix(params):\n",
    "    #turning the array as a matrix\n",
    "    params=np.array(params)\n",
    "    params=np.reshape(params,(3,3))\n",
    "    return params"
   ]
  },
  {
   "cell_type": "code",
   "execution_count": 6,
   "id": "b67d9154-ac58-40fe-88ee-bcf9aaac8b66",
   "metadata": {},
   "outputs": [],
   "source": [
    "params=(2,0,-2,0,4,0,-2,0,5)\n",
    "A=matrix(params)"
   ]
  },
  {
   "cell_type": "code",
   "execution_count": 7,
   "id": "df7c910a-f8a3-42fd-b03b-43898337aa76",
   "metadata": {},
   "outputs": [],
   "source": [
    "def cons_generator(matrix,Y):\n",
    "    #Y      initial conditions\n",
    "    w,v=LA.eigh(matrix)\n",
    "    C=np.linalg.solve(v,Y)\n",
    "    return C"
   ]
  },
  {
   "cell_type": "code",
   "execution_count": 8,
   "id": "44e3006d-4839-4544-ad15-840a6aaa78e3",
   "metadata": {},
   "outputs": [
    {
     "name": "stdout",
     "output_type": "stream",
     "text": [
      "[ 1.34164079  0.         -1.78885438]\n"
     ]
    }
   ],
   "source": [
    "Y=[2,0,-1]\n",
    "cons_params=cons_generator(A,Y)\n",
    "print(cons_params)"
   ]
  },
  {
   "cell_type": "code",
   "execution_count": 9,
   "id": "c5d01d71-85ae-4777-b981-d09f98509b5e",
   "metadata": {},
   "outputs": [],
   "source": [
    "def analy_solve(t,matrix,cons_params):\n",
    "    #solving a linear system dX=AX using the most general solution\n",
    "    #cons_params    containing n constants for n terms in the general solution\n",
    "    X=[]\n",
    "    w,v=LA.eigh(matrix)\n",
    "    L=len(w)\n",
    "    for i in range(L):\n",
    "        e_term=cons_params[i]*(e**(w[i]*t))\n",
    "        y=np.dot(e_term,v[:,i])\n",
    "        X.append(y)\n",
    "        Y=np.sum(X,axis=0)\n",
    "    return Y\n",
    "    #the function eventually returns the explicit solution"
   ]
  },
  {
   "cell_type": "code",
   "execution_count": 10,
   "id": "7f6a196c-4982-4f33-9c7a-0af50fa0556e",
   "metadata": {},
   "outputs": [
    {
     "name": "stdout",
     "output_type": "stream",
     "text": [
      "[ 9.13605912e+25  0.00000000e+00 -1.82721182e+26]\n"
     ]
    }
   ],
   "source": [
    "explicit_solution=analy_solve(10,A,cons_params)\n",
    "print(explicit_solution)"
   ]
  },
  {
   "cell_type": "code",
   "execution_count": 11,
   "id": "f410f741-8b01-4d01-aa1e-c55e29844b56",
   "metadata": {},
   "outputs": [
    {
     "name": "stdout",
     "output_type": "stream",
     "text": [
      "the numerical solution is [9.054661286697442e+25, 0.0, -1.8109322573394884e+26] , the actual solution is [ 9.13605912e+25  0.00000000e+00 -1.82721182e+26] , the mean square error is 1.1042678377166507e+48 .\n"
     ]
    }
   ],
   "source": [
    "MSE=mean_squared_error(explicit_solution,numerical_solution)\n",
    "print('the numerical solution is',numerical_solution,', the actual solution is',explicit_solution,', the mean square error is',MSE,'.' )"
   ]
  }
 ],
 "metadata": {
  "kernelspec": {
   "display_name": "Python 3 (ipykernel)",
   "language": "python",
   "name": "python3"
  },
  "language_info": {
   "codemirror_mode": {
    "name": "ipython",
    "version": 3
   },
   "file_extension": ".py",
   "mimetype": "text/x-python",
   "name": "python",
   "nbconvert_exporter": "python",
   "pygments_lexer": "ipython3",
   "version": "3.9.7"
  }
 },
 "nbformat": 4,
 "nbformat_minor": 5
}
