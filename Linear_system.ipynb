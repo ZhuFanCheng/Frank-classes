{
 "cells": [
  {
   "cell_type": "code",
   "execution_count": 1,
   "id": "bd45df23-8ccd-4601-b19a-9a75f327bf24",
   "metadata": {},
   "outputs": [],
   "source": [
    "import numpy as np\n",
    "from math import e\n",
    "import matplotlib.pyplot as plt\n",
    "from scipy import linalg as LA\n",
    "from scipy import integrate\n",
    "from sklearn.metrics import mean_squared_error"
   ]
  },
  {
   "cell_type": "code",
   "execution_count": 2,
   "id": "f7143c68-f4a8-4004-9a7d-4192fc06343d",
   "metadata": {},
   "outputs": [
    {
     "data": {
      "image/png": "[encoded data removed]",
      "text/plain": [
       "<Figure size 432x288 with 1 Axes>"
      ]
     },
     "metadata": {
      "needs_background": "light"
     },
     "output_type": "display_data"
    },
    {
     "name": "stdout",
     "output_type": "stream",
     "text": [
      "the numerical solution is [9.054661286697442e+25, 0.0, -1.8109322573394884e+26]\n",
      "(  message: 'The solver successfully reached the end of the integration interval.'\n",
      "     nfev: 248\n",
      "     njev: 0\n",
      "      nlu: 0\n",
      "      sol: None\n",
      "   status: 0\n",
      "  success: True\n",
      "        t: array([ 0.        ,  0.04939843,  0.22485912,  0.44825404,  0.69026744,\n",
      "        0.93898721,  1.19011533,  1.4421408 ,  1.69451605,  1.94703326,\n",
      "        2.19960994,  2.45221211,  2.70482539,  2.95744356,  3.2100639 ,\n",
      "        3.46268521,  3.71530695,  3.96792888,  4.2205509 ,  4.47317296,\n",
      "        4.72579504,  4.97841712,  5.23103921,  5.4836613 ,  5.73628339,\n",
      "        5.98890548,  6.24152757,  6.49414966,  6.74677175,  6.99939384,\n",
      "        7.25201593,  7.50463802,  7.75726011,  8.0098822 ,  8.26250429,\n",
      "        8.51512638,  8.76774847,  9.02037056,  9.27299265,  9.52561474,\n",
      "        9.77823683, 10.        ])\n",
      " t_events: None\n",
      "        y: array([[ 2.00000000e+00,  2.33676307e+00,  4.58596425e+00,\n",
      "         1.36579178e+01,  5.27058643e+01,  2.26782795e+02,\n",
      "         1.01313879e+03,  4.58218216e+03,  2.08091281e+04,\n",
      "         9.46350394e+04,  4.30600842e+05,  1.95967460e+06,\n",
      "         8.91923425e+06,  4.05962101e+07,  1.84777679e+08,\n",
      "         8.41039056e+08,  3.82810622e+09,  1.74241784e+10,\n",
      "         7.93087066e+10,  3.60985308e+11,  1.64307819e+12,\n",
      "         7.47871456e+12,  3.40404814e+13,  1.54940314e+14,\n",
      "         7.05233888e+14,  3.20997695e+15,  1.46106876e+16,\n",
      "         6.65027185e+16,  3.02697017e+17,  1.37777050e+18,\n",
      "         6.27112742e+18,  2.85439694e+19,  1.29922123e+20,\n",
      "         5.91359873e+20,  2.69166244e+21,  1.22515020e+22,\n",
      "         5.57645342e+22,  2.53820574e+23,  1.15530210e+24,\n",
      "         5.25852940e+24,  2.39349789e+25,  9.05466129e+25],\n",
      "       [ 0.00000000e+00,  0.00000000e+00,  0.00000000e+00,\n",
      "         0.00000000e+00,  0.00000000e+00,  0.00000000e+00,\n",
      "         0.00000000e+00,  0.00000000e+00,  0.00000000e+00,\n",
      "         0.00000000e+00,  0.00000000e+00,  0.00000000e+00,\n",
      "         0.00000000e+00,  0.00000000e+00,  0.00000000e+00,\n",
      "         0.00000000e+00,  0.00000000e+00,  0.00000000e+00,\n",
      "         0.00000000e+00,  0.00000000e+00,  0.00000000e+00,\n",
      "         0.00000000e+00,  0.00000000e+00,  0.00000000e+00,\n",
      "         0.00000000e+00,  0.00000000e+00,  0.00000000e+00,\n",
      "         0.00000000e+00,  0.00000000e+00,  0.00000000e+00,\n",
      "         0.00000000e+00,  0.00000000e+00,  0.00000000e+00,\n",
      "         0.00000000e+00,  0.00000000e+00,  0.00000000e+00,\n",
      "         0.00000000e+00,  0.00000000e+00,  0.00000000e+00,\n",
      "         0.00000000e+00,  0.00000000e+00,  0.00000000e+00],\n",
      "       [-1.00000000e+00, -1.52160952e+00, -5.41548959e+00,\n",
      "        -2.26191064e+01, -9.94289817e+01, -4.45893419e+02,\n",
      "        -2.01641521e+03, -9.15167509e+03, -4.16019242e+04,\n",
      "        -1.89249055e+05, -8.61174619e+05, -3.91931437e+06,\n",
      "        -1.78384237e+07, -8.11923625e+07, -3.69555283e+08,\n",
      "        -1.68207802e+09, -7.65621232e+09, -3.48483567e+10,\n",
      "        -1.58617413e+11, -7.21970616e+11, -3.28615639e+12,\n",
      "        -1.49574291e+13, -6.80809627e+13, -3.09880628e+14,\n",
      "        -1.41046778e+15, -6.41995391e+15, -2.92213753e+16,\n",
      "        -1.33005437e+17, -6.05394033e+17, -2.75554101e+18,\n",
      "        -1.25422548e+19, -5.70879389e+19, -2.59844247e+20,\n",
      "        -1.18271975e+21, -5.38332488e+21, -2.45030041e+22,\n",
      "        -1.11529068e+23, -5.07641148e+23, -2.31060421e+24,\n",
      "        -1.05170588e+25, -4.78699578e+25, -1.81093226e+26]])\n",
      " y_events: None, [9.054661286697442e+25, 0.0, -1.8109322573394884e+26])\n"
     ]
    }
   ],
   "source": [
    "def linear_system(t,Y,params):\n",
    "    #param    the array containing all the entries of a matrix\n",
    "    #this is a function that describes a linear system dX=AX, where A is n by n, X is n by 1\n",
    "    c11=params[0]\n",
    "    c12=params[1]\n",
    "    c13=params[2]\n",
    "    c21=params[3]\n",
    "    c22=params[4]\n",
    "    c23=params[5]\n",
    "    c31=params[6]\n",
    "    c32=params[7]\n",
    "    c33=params[8]\n",
    "    x=Y[0]\n",
    "    y=Y[1]\n",
    "    z=Y[2]\n",
    "    dx=c11*x+c12*y+c13*z\n",
    "    dy=c21*x+c22*y+c23*z\n",
    "    dz=c31*x+c32*y+c33*z\n",
    "    return([dx,dy,dz])\n",
    "\n",
    "def num_solve(func,tspan,y0,params):\n",
    "    sol=integrate.solve_ivp(func,tspan,y0,args=(params,))\n",
    "    T=sol.t\n",
    "    X=sol.y\n",
    "    Y=[]\n",
    "    x=X[0]\n",
    "    y=X[1]\n",
    "    z=X[2]\n",
    "    plt.plot(T,x,'r')\n",
    "    plt.plot(T,y,'g')\n",
    "    plt.plot(T,z,'b')\n",
    "    plt.legend(['x','y','z'])\n",
    "    plt.show()\n",
    "    x=x[-1]\n",
    "    y=y[-1]\n",
    "    z=z[-1]\n",
    "    Y.append(x)\n",
    "    Y.append(y)\n",
    "    Y.append(z)\n",
    "    print('the numerical solution is',Y)\n",
    "    return sol,Y #returning a tuple such that the first term in the tuple is the solution containing time array and \n",
    "#value array, the second term in the tuple is simply the answer\n",
    "\n",
    "tspan=[0,10]\n",
    "y0=[2,0,-1]\n",
    "params=(2,0,-2,0,4,0,-2,0,5)\n",
    "numerical_solution=num_solve(linear_system,tspan,y0,params)#the numerical solution using RK45\n",
    "print(numerical_solution)"
   ]
  },
  {
   "cell_type": "code",
   "execution_count": 3,
   "id": "1937dfe0-f917-4b04-970c-27de602d7b45",
   "metadata": {},
   "outputs": [
    {
     "name": "stdout",
     "output_type": "stream",
     "text": [
      "the constants terms in the general solution are [ 1.34164079  0.         -1.78885438]\n",
      "the numerical solution is [9.054661286697442e+25, 0.0, -1.8109322573394884e+26] , the actual solution is [ 9.13605912e+25  0.00000000e+00 -1.82721182e+26] , the mean square error is 1.1042678377166507e+48 .\n"
     ]
    }
   ],
   "source": [
    "def matrix(params):\n",
    "    #turning the array as a matrix\n",
    "    params=np.array(params)\n",
    "    params=np.reshape(params,(3,3))\n",
    "    return params\n",
    "\n",
    "def cons_generator(matrix,Y):\n",
    "    #Y      initial conditions\n",
    "    w,v=LA.eigh(matrix)\n",
    "    C=np.linalg.solve(v,Y)\n",
    "    return C\n",
    "\n",
    "def analy_solve(t,matrix,cons_params):\n",
    "    #solving a linear system dX=AX using the most general solution\n",
    "    #cons_params    containing n constants for n terms in the general solution\n",
    "    X=[]\n",
    "    w,v=LA.eigh(matrix)\n",
    "    L=len(w)\n",
    "    for i in range(L):\n",
    "        e_term=cons_params[i]*(e**(w[i]*t))\n",
    "        y=np.dot(e_term,v[:,i])\n",
    "        X.append(y)\n",
    "        Y=np.sum(X,axis=0)\n",
    "    return Y\n",
    "    #the function eventually returns the explicit solution\n",
    "    \n",
    "params=(2,0,-2,0,4,0,-2,0,5)\n",
    "A=matrix(params)\n",
    "Y=[2,0,-1]\n",
    "cons_params=cons_generator(A,Y)\n",
    "print('the constants terms in the general solution are',cons_params)\n",
    "explicit_solution=analy_solve(10,A,cons_params)\n",
    "numerical_solution=numerical_solution[-1]\n",
    "MSE=mean_squared_error(explicit_solution,numerical_solution)\n",
    "print('the numerical solution is',numerical_solution,', the actual solution is',explicit_solution,', the mean square error is',MSE,'.' )"
   ]
  },
  {
   "cell_type": "code",
   "execution_count": 4,
   "id": "27aa0603-5658-4dba-919c-bffed1c9cd36",
   "metadata": {},
   "outputs": [
    {
     "data": {
      "image/png": "[encoded data removed]",
      "text/plain": [
       "<Figure size 432x288 with 1 Axes>"
      ]
     },
     "metadata": {
      "needs_background": "light"
     },
     "output_type": "display_data"
    }
   ],
   "source": [
    "def plot(func,tspan,y0,params):\n",
    "    sol=integrate.solve_ivp(func,tspan,y0,args=(params,))\n",
    "    T=sol.t\n",
    "    X=sol.y\n",
    "    x=X[0]\n",
    "    y=X[1]\n",
    "    z=X[2]\n",
    "    act_sol=[]\n",
    "    for t in T:\n",
    "        sol=analy_solve(t,A,cons_params)\n",
    "        act_sol.append(sol)\n",
    "    act_sol=np.reshape(act_sol,(len(act_sol),3))\n",
    "    plt.plot(T,x,'r')\n",
    "    plt.plot(T,y,'g')\n",
    "    plt.plot(T,z,'b')\n",
    "    plt.plot(T,act_sol[:,0],'c')\n",
    "    plt.plot(T,act_sol[:,1],'m')\n",
    "    plt.plot(T,act_sol[:,2],'y')\n",
    "    plt.legend(['num_x','num_y','num_z','act_x','act_y','act_z'])\n",
    "    plt.show()\n",
    "    \n",
    "plot(linear_system,tspan,y0,params) #since the values are all so large it looks like there is no difference at all,\n",
    "#but the code was correct"
   ]
  }
 ],
 "metadata": {
  "kernelspec": {
   "display_name": "Python 3 (ipykernel)",
   "language": "python",
   "name": "python3"
  },
  "language_info": {
   "codemirror_mode": {
    "name": "ipython",
    "version": 3
   },
   "file_extension": ".py",
   "mimetype": "text/x-python",
   "name": "python",
   "nbconvert_exporter": "python",
   "pygments_lexer": "ipython3",
   "version": "3.9.7"
  }
 },
 "nbformat": 4,
 "nbformat_minor": 5
}
