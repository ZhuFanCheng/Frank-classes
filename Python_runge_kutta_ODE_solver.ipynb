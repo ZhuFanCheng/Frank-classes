{
 "cells": [
  {
   "cell_type": "code",
   "execution_count": 1,
   "id": "6f978bf8-788a-4a14-b1da-c32195e01a68",
   "metadata": {},
   "outputs": [],
   "source": [
    "from scipy import integrate\n",
    "import matplotlib.pyplot as plt\n",
    "import numpy as np\n",
    "from sklearn.metrics import mean_squared_error\n",
    "from math import e"
   ]
  },
  {
   "cell_type": "code",
   "execution_count": 2,
   "id": "2695590c-854e-4463-895f-9337c2e121f8",
   "metadata": {},
   "outputs": [],
   "source": [
    "def runge_kutta_solver(func,tspan,x0,*real_func):\n",
    "    #func         the callable differential equation.\n",
    "    #tspan        the interval of time.\n",
    "    #x0           initial values.\n",
    "    #real_func    optional, used to calculate the MSE\n",
    "    sol=integrate.solve_ivp(func,tspan,x0)\n",
    "    X=sol.y\n",
    "    #getting the value array.\n",
    "    X=X[-1]\n",
    "    val=X[-1]\n",
    "    #sol.y is a list of arrays that's why I have to read the value twice.\n",
    "    #displaying the approximated value.\n",
    "    T=sol.t\n",
    "    #getting the time points array.\n",
    "    if real_func:\n",
    "        real_func=real_func[0]\n",
    "        #access the callable function from the tuple.\n",
    "        Y=[] #an array containing the real function values for the given time points.\n",
    "        for t in T:\n",
    "            y=real_func(t)\n",
    "            Y.append(y)\n",
    "        mse=mean_squared_error(Y,X)\n",
    "        plt.plot(T,X,'r') #So the approximated values will be presented in red line, in order to distinguish it from the real function.\n",
    "        plt.plot(T,Y,'b')\n",
    "        plt.xlabel('time')\n",
    "        plt.title('runge kutta method')\n",
    "        plt.show\n",
    "        print('at t=',tspan[-1],', the value of the approximated solution is',val,', the mean squared error is',mse,'.')\n",
    "    else:\n",
    "        plt.plot(T,X,'r')\n",
    "        plt.xlabel('time')\n",
    "        plt.title('runge kutta method')\n",
    "        plt.show\n",
    "        print('at t=',tspan[-1],', the value of the approximated solution is',val,'.')\n",
    "    return sol"
   ]
  },
  {
   "cell_type": "code",
   "execution_count": 3,
   "id": "fb45a773-ccf1-4582-91a5-d400932309f5",
   "metadata": {},
   "outputs": [],
   "source": [
    "def func(t,x):\n",
    "    dxdt=x\n",
    "    return dxdt #defining the callable differential equation for the scipy integrate.\n",
    "\n",
    "tspan=[0,10]\n",
    "x0=[1]\n",
    "\n",
    "def real_func(t):\n",
    "    y=e**t\n",
    "    return y #the actual function in this ODE is simply e^t."
   ]
  },
  {
   "cell_type": "code",
   "execution_count": 4,
   "id": "fd136e2d-0c78-4f7e-b136-3fadfde0d2e3",
   "metadata": {},
   "outputs": [
    {
     "name": "stdout",
     "output_type": "stream",
     "text": [
      "at t= 10 , the value of the approximated solution is 22016.12509092571 .\n"
     ]
    },
    {
     "data": {
      "text/plain": [
       "  message: 'The solver successfully reached the end of the integration interval.'\n",
       "     nfev: 56\n",
       "     njev: 0\n",
       "      nlu: 0\n",
       "      sol: None\n",
       "   status: 0\n",
       "  success: True\n",
       "        t: array([ 0.        ,  0.10001999,  1.06609106,  2.30431769,  3.64528981,\n",
       "        5.0274784 ,  6.42658963,  7.83271453,  9.2417576 , 10.        ])\n",
       " t_events: None\n",
       "        y: array([[1.00000000e+00, 1.10519301e+00, 2.90405980e+00, 1.00174032e+01,\n",
       "        3.82917453e+01, 1.52525445e+02, 6.17906340e+02, 2.52084574e+03,\n",
       "        1.03142124e+04, 2.20161251e+04]])\n",
       " y_events: None"
      ]
     },
     "execution_count": 4,
     "metadata": {},
     "output_type": "execute_result"
    },
    {
     "data": {
      "image/png": "[encoded data removed]",
      "text/plain": [
       "<Figure size 432x288 with 1 Axes>"
      ]
     },
     "metadata": {
      "needs_background": "light"
     },
     "output_type": "display_data"
    }
   ],
   "source": [
    "runge_kutta_solver(func,tspan,x0) #The first time trying optional argument, tunrs out that it worked."
   ]
  },
  {
   "cell_type": "code",
   "execution_count": 5,
   "id": "92d3b3ef-1c08-4224-9ff7-77b1c7311b70",
   "metadata": {},
   "outputs": [
    {
     "name": "stdout",
     "output_type": "stream",
     "text": [
      "at t= 10 , the value of the approximated solution is 22016.12509092571 , the mean squared error is 13.227529965976956 .\n"
     ]
    },
    {
     "data": {
      "text/plain": [
       "  message: 'The solver successfully reached the end of the integration interval.'\n",
       "     nfev: 56\n",
       "     njev: 0\n",
       "      nlu: 0\n",
       "      sol: None\n",
       "   status: 0\n",
       "  success: True\n",
       "        t: array([ 0.        ,  0.10001999,  1.06609106,  2.30431769,  3.64528981,\n",
       "        5.0274784 ,  6.42658963,  7.83271453,  9.2417576 , 10.        ])\n",
       " t_events: None\n",
       "        y: array([[1.00000000e+00, 1.10519301e+00, 2.90405980e+00, 1.00174032e+01,\n",
       "        3.82917453e+01, 1.52525445e+02, 6.17906340e+02, 2.52084574e+03,\n",
       "        1.03142124e+04, 2.20161251e+04]])\n",
       " y_events: None"
      ]
     },
     "execution_count": 5,
     "metadata": {},
     "output_type": "execute_result"
    },
    {
     "data": {
      "image/png": "[encoded data removed]",
      "text/plain": [
       "<Figure size 432x288 with 1 Axes>"
      ]
     },
     "metadata": {
      "needs_background": "light"
     },
     "output_type": "display_data"
    }
   ],
   "source": [
    "runge_kutta_solver(func,tspan,x0,real_func) "
   ]
  }
 ],
 "metadata": {
  "kernelspec": {
   "display_name": "Python 3 (ipykernel)",
   "language": "python",
   "name": "python3"
  },
  "language_info": {
   "codemirror_mode": {
    "name": "ipython",
    "version": 3
   },
   "file_extension": ".py",
   "mimetype": "text/x-python",
   "name": "python",
   "nbconvert_exporter": "python",
   "pygments_lexer": "ipython3",
   "version": "3.9.7"
  }
 },
 "nbformat": 4,
 "nbformat_minor": 5
}
