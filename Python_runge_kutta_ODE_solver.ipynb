{
 "cells": [
  {
   "cell_type": "code",
   "execution_count": 1,
   "id": "6f978bf8-788a-4a14-b1da-c32195e01a68",
   "metadata": {},
   "outputs": [],
   "source": [
    "from scipy import integrate\n",
    "import matplotlib.pyplot as plt\n",
    "import numpy as np\n",
    "from sklearn.metrics import mean_squared_error\n",
    "from math import e"
   ]
  },
  {
   "cell_type": "code",
   "execution_count": 2,
   "id": "2695590c-854e-4463-895f-9337c2e121f8",
   "metadata": {},
   "outputs": [],
   "source": [
    "def runge_kutta_solver(func,tspan,x0,*real_func):\n",
    "    #func         the callable differential equation.\n",
    "    #tspan        the interval of time.\n",
    "    #x0           initial values.\n",
    "    #real_func    optional, used to calculate the MSE\n",
    "    sol=integrate.solve_ivp(func,tspan,x0,max_step=0.33)\n",
    "    X=sol.y\n",
    "    #getting the value array.\n",
    "    X=X[-1]\n",
    "    val=X[-1]\n",
    "    #sol.y is a list of arrays that's why I have to read the value twice.\n",
    "    #displaying the approximated value.\n",
    "    T=sol.t\n",
    "    #getting the time points array.\n",
    "    if real_func:\n",
    "        real_func=real_func[0]\n",
    "        #access the callable function from the tuple.\n",
    "        Y=[] #an array containing the real function values for the given time points.\n",
    "        for t in T:\n",
    "            y=real_func(t)\n",
    "            Y.append(y)\n",
    "        mse=mean_squared_error(Y,X)\n",
    "        plt.plot(T,X,'r') #So the approximated values will be presented in red line, in order to distinguish it from the real function.\n",
    "        plt.plot(T,Y,'b')\n",
    "        plt.xlabel('time')\n",
    "        plt.title('runge kutta method')\n",
    "        plt.show\n",
    "        print('at t=',tspan[-1],', the value of the approximated solution is',val,', the mean squared error is',mse,'.')\n",
    "    else:\n",
    "        plt.plot(T,X,'r')\n",
    "        plt.xlabel('time')\n",
    "        plt.title('runge kutta method')\n",
    "        plt.show\n",
    "        print('at t=',tspan[-1],', the value of the approximated solution is',val,'.')\n",
    "    return sol"
   ]
  },
  {
   "cell_type": "code",
   "execution_count": 3,
   "id": "fb45a773-ccf1-4582-91a5-d400932309f5",
   "metadata": {},
   "outputs": [],
   "source": [
    "def func(t,x):\n",
    "    dxdt=x\n",
    "    return dxdt #defining the callable differential equation for the scipy integrate.\n",
    "\n",
    "tspan=[0,10]\n",
    "x0=[1]\n",
    "\n",
    "def real_func(t):\n",
    "    y=e**t\n",
    "    return y #the actual function in this ODE is simply e^t."
   ]
  },
  {
   "cell_type": "code",
   "execution_count": 4,
   "id": "fd136e2d-0c78-4f7e-b136-3fadfde0d2e3",
   "metadata": {},
   "outputs": [
    {
     "name": "stdout",
     "output_type": "stream",
     "text": [
      "at t= 10 , the value of the approximated solution is 22026.59433144763 .\n"
     ]
    },
    {
     "data": {
      "text/plain": [
       "  message: 'The solver successfully reached the end of the integration interval.'\n",
       "     nfev: 188\n",
       "     njev: 0\n",
       "      nlu: 0\n",
       "      sol: None\n",
       "   status: 0\n",
       "  success: True\n",
       "        t: array([ 0.        ,  0.10001999,  0.43001999,  0.76001999,  1.09001999,\n",
       "        1.42001999,  1.75001999,  2.08001999,  2.41001999,  2.74001999,\n",
       "        3.07001999,  3.40001999,  3.73001999,  4.06001999,  4.39001999,\n",
       "        4.72001999,  5.05001999,  5.38001999,  5.71001999,  6.04001999,\n",
       "        6.37001999,  6.70001999,  7.03001999,  7.36001999,  7.69001999,\n",
       "        8.02001999,  8.35001999,  8.68001999,  9.01001999,  9.34001999,\n",
       "        9.67001999, 10.        ])\n",
       " t_events: None\n",
       "        y: array([[1.00000000e+00, 1.10519301e+00, 1.53728856e+00, 2.13831980e+00,\n",
       "        2.97433527e+00, 4.13720637e+00, 5.75472332e+00, 8.00463829e+00,\n",
       "        1.11341989e+01, 1.54873188e+01, 2.15423711e+01, 2.99647574e+01,\n",
       "        4.16800306e+01, 5.79756055e+01, 8.06422351e+01, 1.12170801e+02,\n",
       "        1.56026039e+02, 2.17027290e+02, 3.01878102e+02, 4.19902900e+02,\n",
       "        5.84071664e+02, 8.12425228e+02, 1.13005782e+03, 1.57187471e+03,\n",
       "        2.18642805e+03, 3.04125233e+03, 4.23028589e+03, 5.88419399e+03,\n",
       "        8.18472789e+03, 1.13846978e+04, 1.58357549e+04, 2.20265943e+04]])\n",
       " y_events: None"
      ]
     },
     "execution_count": 4,
     "metadata": {},
     "output_type": "execute_result"
    },
    {
     "data": {
      "image/png": "[encoded data removed]",
      "text/plain": [
       "<Figure size 432x288 with 1 Axes>"
      ]
     },
     "metadata": {
      "needs_background": "light"
     },
     "output_type": "display_data"
    }
   ],
   "source": [
    "runge_kutta_solver(func,tspan,x0) #The first time trying optional argument, tunrs out that it worked."
   ]
  },
  {
   "cell_type": "code",
   "execution_count": 5,
   "id": "92d3b3ef-1c08-4224-9ff7-77b1c7311b70",
   "metadata": {},
   "outputs": [
    {
     "name": "stdout",
     "output_type": "stream",
     "text": [
      "at t= 10 , the value of the approximated solution is 22026.59433144763 , the mean squared error is 0.000996428578534433 .\n"
     ]
    },
    {
     "data": {
      "text/plain": [
       "  message: 'The solver successfully reached the end of the integration interval.'\n",
       "     nfev: 188\n",
       "     njev: 0\n",
       "      nlu: 0\n",
       "      sol: None\n",
       "   status: 0\n",
       "  success: True\n",
       "        t: array([ 0.        ,  0.10001999,  0.43001999,  0.76001999,  1.09001999,\n",
       "        1.42001999,  1.75001999,  2.08001999,  2.41001999,  2.74001999,\n",
       "        3.07001999,  3.40001999,  3.73001999,  4.06001999,  4.39001999,\n",
       "        4.72001999,  5.05001999,  5.38001999,  5.71001999,  6.04001999,\n",
       "        6.37001999,  6.70001999,  7.03001999,  7.36001999,  7.69001999,\n",
       "        8.02001999,  8.35001999,  8.68001999,  9.01001999,  9.34001999,\n",
       "        9.67001999, 10.        ])\n",
       " t_events: None\n",
       "        y: array([[1.00000000e+00, 1.10519301e+00, 1.53728856e+00, 2.13831980e+00,\n",
       "        2.97433527e+00, 4.13720637e+00, 5.75472332e+00, 8.00463829e+00,\n",
       "        1.11341989e+01, 1.54873188e+01, 2.15423711e+01, 2.99647574e+01,\n",
       "        4.16800306e+01, 5.79756055e+01, 8.06422351e+01, 1.12170801e+02,\n",
       "        1.56026039e+02, 2.17027290e+02, 3.01878102e+02, 4.19902900e+02,\n",
       "        5.84071664e+02, 8.12425228e+02, 1.13005782e+03, 1.57187471e+03,\n",
       "        2.18642805e+03, 3.04125233e+03, 4.23028589e+03, 5.88419399e+03,\n",
       "        8.18472789e+03, 1.13846978e+04, 1.58357549e+04, 2.20265943e+04]])\n",
       " y_events: None"
      ]
     },
     "execution_count": 5,
     "metadata": {},
     "output_type": "execute_result"
    },
    {
     "data": {
      "image/png": "[encoded data removed]",
      "text/plain": [
       "<Figure size 432x288 with 1 Axes>"
      ]
     },
     "metadata": {
      "needs_background": "light"
     },
     "output_type": "display_data"
    }
   ],
   "source": [
    "runge_kutta_solver(func,tspan,x0,real_func) "
   ]
  }
 ],
 "metadata": {
  "kernelspec": {
   "display_name": "Python 3 (ipykernel)",
   "language": "python",
   "name": "python3"
  },
  "language_info": {
   "codemirror_mode": {
    "name": "ipython",
    "version": 3
   },
   "file_extension": ".py",
   "mimetype": "text/x-python",
   "name": "python",
   "nbconvert_exporter": "python",
   "pygments_lexer": "ipython3",
   "version": "3.9.7"
  }
 },
 "nbformat": 4,
 "nbformat_minor": 5
}
